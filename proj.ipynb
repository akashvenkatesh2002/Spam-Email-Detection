{
 "cells": [
  {
   "cell_type": "code",
   "execution_count": 1,
   "id": "5da79162",
   "metadata": {},
   "outputs": [],
   "source": [
    "#Import libraries\n",
    "import numpy as np \n",
    "import pandas as pd \n",
    "import matplotlib.pyplot as plt"
   ]
  },
  {
   "cell_type": "code",
   "execution_count": 3,
   "id": "ddc5caec",
   "metadata": {},
   "outputs": [
    {
     "name": "stdout",
     "output_type": "stream",
     "text": [
      "  labels                                            message\n",
      "0  Label                                          EmailText\n",
      "1    ham  Go until jurong point, crazy.. Available only ...\n",
      "2    ham                      Ok lar... Joking wif u oni...\n",
      "3   spam  Free entry in 2 a wkly comp to win FA Cup fina...\n",
      "4    ham  U dun say so early hor... U c already then say...\n"
     ]
    }
   ],
   "source": [
    "#Import dataset\n",
    "message=pd.read_csv('spam.csv',names=[\"labels\",\"message\"])\n",
    "\n",
    "#Print first 4 datapoints to check if dataset is loaded properly \n",
    "print(message.head())"
   ]
  },
  {
   "cell_type": "code",
   "execution_count": 4,
   "id": "2d0330d5",
   "metadata": {},
   "outputs": [
    {
     "name": "stdout",
     "output_type": "stream",
     "text": [
      "       labels                 message\n",
      "count    5573                    5573\n",
      "unique      3                    5170\n",
      "top       ham  Sorry, I'll call later\n",
      "freq     4825                      30\n",
      "       message                                                               \n",
      "         count unique                                                top freq\n",
      "labels                                                                       \n",
      "Label        1      1                                          EmailText    1\n",
      "ham       4825   4516                             Sorry, I'll call later   30\n",
      "spam       747    653  Please call our customer service representativ...    4\n"
     ]
    }
   ],
   "source": [
    "#General statistics\n",
    "print(message.describe())\n",
    "print(message.groupby('labels').describe())"
   ]
  },
  {
   "cell_type": "code",
   "execution_count": 5,
   "id": "6a7a3487",
   "metadata": {},
   "outputs": [
    {
     "name": "stdout",
     "output_type": "stream",
     "text": [
      "  labels                                            message  length\n",
      "0  Label                                          EmailText       9\n",
      "1    ham  Go until jurong point, crazy.. Available only ...     111\n",
      "2    ham                      Ok lar... Joking wif u oni...      29\n",
      "3   spam  Free entry in 2 a wkly comp to win FA Cup fina...     155\n",
      "4    ham  U dun say so early hor... U c already then say...      49\n"
     ]
    },
    {
     "data": {
      "text/plain": [
       "count    5573.000000\n",
       "mean       80.333214\n",
       "std        59.851222\n",
       "min         2.000000\n",
       "25%        36.000000\n",
       "50%        61.000000\n",
       "75%       122.000000\n",
       "max       910.000000\n",
       "Name: length, dtype: float64"
      ]
     },
     "execution_count": 5,
     "metadata": {},
     "output_type": "execute_result"
    }
   ],
   "source": [
    "#Creating a new column length for visualization of length of each datapoint\n",
    "message['length']=message['message'].apply(len)\n",
    "print(message.head())\n",
    "message.length.describe()"
   ]
  },
  {
   "cell_type": "code",
   "execution_count": 6,
   "id": "25f729e0",
   "metadata": {},
   "outputs": [
    {
     "data": {
      "text/plain": [
       "<AxesSubplot:ylabel='Frequency'>"
      ]
     },
     "execution_count": 6,
     "metadata": {},
     "output_type": "execute_result"
    },
    {
     "data": {
      "image/png": "[encoded data removed]",
      "text/plain": [
       "<Figure size 432x288 with 1 Axes>"
      ]
     },
     "metadata": {
      "needs_background": "light"
     },
     "output_type": "display_data"
    }
   ],
   "source": [
    "#Histogram of frequency of each length\n",
    "message['length'].plot(bins=50,kind='hist')"
   ]
  },
  {
   "cell_type": "code",
   "execution_count": 7,
   "id": "9ca13c83",
   "metadata": {},
   "outputs": [
    {
     "name": "stdout",
     "output_type": "stream",
     "text": [
      "sample message\n"
     ]
    }
   ],
   "source": [
    "#Pre-processing : Building a function to remove all punctuations and stop words\n",
    "\n",
    "#Demonstrating removal of punctuations\n",
    "import string\n",
    "mess = 'sample message!...'\n",
    "nopunc=[char for char in mess if char not in string.punctuation]\n",
    "nopunc=''.join(nopunc)\n",
    "nopunc.split()\n",
    "print(nopunc)"
   ]
  },
  {
   "cell_type": "code",
   "execution_count": 8,
   "id": "5d5c6594",
   "metadata": {},
   "outputs": [
    {
     "name": "stdout",
     "output_type": "stream",
     "text": [
      "['i', 'me', 'my', 'myself', 'we', 'our', 'ours', 'ourselves', 'you', \"you're\"]\n"
     ]
    }
   ],
   "source": [
    "#Demonstrating examples of stopwords\n",
    "from nltk.corpus import stopwords\n",
    "print(stopwords.words('english')[0:10])"
   ]
  },
  {
   "cell_type": "code",
   "execution_count": 9,
   "id": "3f13d87a",
   "metadata": {},
   "outputs": [],
   "source": [
    "#Combining the above processes to create a filter function\n",
    "def text_process(mess):\n",
    "    nopunc =[char for char in mess if char not in string.punctuation]\n",
    "    nopunc=''.join(nopunc)\n",
    "    return [word for word in nopunc.split() if word.lower() not in stopwords.words('english')]"
   ]
  },
  {
   "cell_type": "code",
   "execution_count": 11,
   "id": "b9a69057",
   "metadata": {},
   "outputs": [
    {
     "name": "stdout",
     "output_type": "stream",
     "text": [
      "  labels                                            message  length\n",
      "0  Label                                          EmailText       9\n",
      "1    ham  Go until jurong point, crazy.. Available only ...     111\n",
      "2    ham                      Ok lar... Joking wif u oni...      29\n",
      "3   spam  Free entry in 2 a wkly comp to win FA Cup fina...     155\n",
      "4    ham  U dun say so early hor... U c already then say...      49\n",
      "\n",
      "0                                          [EmailText]\n",
      "1    [Go, jurong, point, crazy, Available, bugis, n...\n",
      "2                       [Ok, lar, Joking, wif, u, oni]\n",
      "3    [Free, entry, 2, wkly, comp, win, FA, Cup, fin...\n",
      "4        [U, dun, say, early, hor, U, c, already, say]\n",
      "Name: message, dtype: object\n"
     ]
    }
   ],
   "source": [
    "#Before and after\n",
    "print(message.head())\n",
    "print()\n",
    "print(message['message'].head(5).apply(text_process))"
   ]
  },
  {
   "cell_type": "code",
   "execution_count": null,
   "id": "ae488180",
   "metadata": {},
   "outputs": [],
   "source": []
  }
 ],
 "metadata": {
  "kernelspec": {
   "display_name": "Python 3 (ipykernel)",
   "language": "python",
   "name": "python3"
  },
  "language_info": {
   "codemirror_mode": {
    "name": "ipython",
    "version": 3
   },
   "file_extension": ".py",
   "mimetype": "text/x-python",
   "name": "python",
   "nbconvert_exporter": "python",
   "pygments_lexer": "ipython3",
   "version": "3.9.7"
  }
 },
 "nbformat": 4,
 "nbformat_minor": 5
}
